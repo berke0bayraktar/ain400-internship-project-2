{
 "cells": [
  {
   "cell_type": "code",
   "execution_count": 37,
   "id": "db7da5e4",
   "metadata": {},
   "outputs": [],
   "source": [
    "import os\n",
    "import pandas as pd\n",
    "import numpy as np"
   ]
  },
  {
   "cell_type": "code",
   "execution_count": 38,
   "id": "b28b840e",
   "metadata": {},
   "outputs": [],
   "source": [
    "lines = [\"img_name,case_num,source,label,typ,frame\"]\n",
    "for img_name in os.listdir(\"data\"):\n",
    "    case_num, source, label, _, typ, _, frame = img_name.split(\"_\")\n",
    "    case_num = int(case_num)\n",
    "    frame = int(frame[5:frame.find(\".\")])\n",
    "    data = f\"{img_name},{case_num},{source},{label},{typ},{frame}\"\n",
    "    lines.append(data)\n",
    "\n",
    "f = open(\"metadata.csv\", \"w\") \n",
    "f.writelines(\"\\n\".join(lines))\n",
    "f.close()"
   ]
  },
  {
   "cell_type": "code",
   "execution_count": 39,
   "id": "17ab16fb",
   "metadata": {},
   "outputs": [],
   "source": [
    "df = pd.read_csv(\"metadata.csv\").sample(frac=1).reset_index(drop=True)"
   ]
  },
  {
   "cell_type": "code",
   "execution_count": 40,
   "id": "bb4b79f7",
   "metadata": {},
   "outputs": [
    {
     "data": {
      "text/html": [
       "<div>\n",
       "<style scoped>\n",
       "    .dataframe tbody tr th:only-of-type {\n",
       "        vertical-align: middle;\n",
       "    }\n",
       "\n",
       "    .dataframe tbody tr th {\n",
       "        vertical-align: top;\n",
       "    }\n",
       "\n",
       "    .dataframe thead th {\n",
       "        text-align: right;\n",
       "    }\n",
       "</style>\n",
       "<table border=\"1\" class=\"dataframe\">\n",
       "  <thead>\n",
       "    <tr style=\"text-align: right;\">\n",
       "      <th></th>\n",
       "      <th>img_name</th>\n",
       "      <th>case_num</th>\n",
       "      <th>source</th>\n",
       "      <th>label</th>\n",
       "      <th>typ</th>\n",
       "      <th>frame</th>\n",
       "    </tr>\n",
       "  </thead>\n",
       "  <tbody>\n",
       "    <tr>\n",
       "      <th>0</th>\n",
       "      <td>185_uf_other_prc_convex_clean_frame20.jpg</td>\n",
       "      <td>185</td>\n",
       "      <td>uf</td>\n",
       "      <td>other</td>\n",
       "      <td>convex</td>\n",
       "      <td>20</td>\n",
       "    </tr>\n",
       "    <tr>\n",
       "      <th>1</th>\n",
       "      <td>101_litfl_other_prc_convex_clean_frame8.jpg</td>\n",
       "      <td>101</td>\n",
       "      <td>litfl</td>\n",
       "      <td>other</td>\n",
       "      <td>convex</td>\n",
       "      <td>8</td>\n",
       "    </tr>\n",
       "    <tr>\n",
       "      <th>2</th>\n",
       "      <td>29_grepmed_covid_prc_linear_clean_frame56.jpg</td>\n",
       "      <td>29</td>\n",
       "      <td>grepmed</td>\n",
       "      <td>covid</td>\n",
       "      <td>linear</td>\n",
       "      <td>56</td>\n",
       "    </tr>\n",
       "    <tr>\n",
       "      <th>3</th>\n",
       "      <td>31_grepmed_covid_prc_convex_clean_frame0.jpg</td>\n",
       "      <td>31</td>\n",
       "      <td>grepmed</td>\n",
       "      <td>covid</td>\n",
       "      <td>convex</td>\n",
       "      <td>0</td>\n",
       "    </tr>\n",
       "    <tr>\n",
       "      <th>4</th>\n",
       "      <td>104_litfl_other_prc_linear_clean_frame16.jpg</td>\n",
       "      <td>104</td>\n",
       "      <td>litfl</td>\n",
       "      <td>other</td>\n",
       "      <td>linear</td>\n",
       "      <td>16</td>\n",
       "    </tr>\n",
       "    <tr>\n",
       "      <th>...</th>\n",
       "      <td>...</td>\n",
       "      <td>...</td>\n",
       "      <td>...</td>\n",
       "      <td>...</td>\n",
       "      <td>...</td>\n",
       "      <td>...</td>\n",
       "    </tr>\n",
       "    <tr>\n",
       "      <th>2349</th>\n",
       "      <td>197_uf_other_prc_convex_clean_frame45.jpg</td>\n",
       "      <td>197</td>\n",
       "      <td>uf</td>\n",
       "      <td>other</td>\n",
       "      <td>convex</td>\n",
       "      <td>45</td>\n",
       "    </tr>\n",
       "    <tr>\n",
       "      <th>2350</th>\n",
       "      <td>83_butterfly_covid_prc_convex_clean_frame21.jpg</td>\n",
       "      <td>83</td>\n",
       "      <td>butterfly</td>\n",
       "      <td>covid</td>\n",
       "      <td>convex</td>\n",
       "      <td>21</td>\n",
       "    </tr>\n",
       "    <tr>\n",
       "      <th>2351</th>\n",
       "      <td>193_uf_other_prc_convex_clean_frame32.jpg</td>\n",
       "      <td>193</td>\n",
       "      <td>uf</td>\n",
       "      <td>other</td>\n",
       "      <td>convex</td>\n",
       "      <td>32</td>\n",
       "    </tr>\n",
       "    <tr>\n",
       "      <th>2352</th>\n",
       "      <td>115_litfl_other_prc_convex_clean_frame16.jpg</td>\n",
       "      <td>115</td>\n",
       "      <td>litfl</td>\n",
       "      <td>other</td>\n",
       "      <td>convex</td>\n",
       "      <td>16</td>\n",
       "    </tr>\n",
       "    <tr>\n",
       "      <th>2353</th>\n",
       "      <td>191_uf_normal_prc_convex_clean_frame30.jpg</td>\n",
       "      <td>191</td>\n",
       "      <td>uf</td>\n",
       "      <td>normal</td>\n",
       "      <td>convex</td>\n",
       "      <td>30</td>\n",
       "    </tr>\n",
       "  </tbody>\n",
       "</table>\n",
       "<p>2354 rows × 6 columns</p>\n",
       "</div>"
      ],
      "text/plain": [
       "                                             img_name  case_num     source  \\\n",
       "0           185_uf_other_prc_convex_clean_frame20.jpg       185         uf   \n",
       "1         101_litfl_other_prc_convex_clean_frame8.jpg       101      litfl   \n",
       "2       29_grepmed_covid_prc_linear_clean_frame56.jpg        29    grepmed   \n",
       "3        31_grepmed_covid_prc_convex_clean_frame0.jpg        31    grepmed   \n",
       "4        104_litfl_other_prc_linear_clean_frame16.jpg       104      litfl   \n",
       "...                                               ...       ...        ...   \n",
       "2349        197_uf_other_prc_convex_clean_frame45.jpg       197         uf   \n",
       "2350  83_butterfly_covid_prc_convex_clean_frame21.jpg        83  butterfly   \n",
       "2351        193_uf_other_prc_convex_clean_frame32.jpg       193         uf   \n",
       "2352     115_litfl_other_prc_convex_clean_frame16.jpg       115      litfl   \n",
       "2353       191_uf_normal_prc_convex_clean_frame30.jpg       191         uf   \n",
       "\n",
       "       label     typ  frame  \n",
       "0      other  convex     20  \n",
       "1      other  convex      8  \n",
       "2      covid  linear     56  \n",
       "3      covid  convex      0  \n",
       "4      other  linear     16  \n",
       "...      ...     ...    ...  \n",
       "2349   other  convex     45  \n",
       "2350   covid  convex     21  \n",
       "2351   other  convex     32  \n",
       "2352   other  convex     16  \n",
       "2353  normal  convex     30  \n",
       "\n",
       "[2354 rows x 6 columns]"
      ]
     },
     "execution_count": 40,
     "metadata": {},
     "output_type": "execute_result"
    }
   ],
   "source": [
    "df"
   ]
  },
  {
   "cell_type": "code",
   "execution_count": 41,
   "id": "39ad4925",
   "metadata": {},
   "outputs": [
    {
     "name": "stdout",
     "output_type": "stream",
     "text": [
      "uf - 24\n",
      "litfl - 63\n",
      "grepmed - 20\n",
      "core - 18\n",
      "butterfly - 35\n",
      "clarius - 23\n",
      "paper - 22\n",
      "pocusatlas - 32\n",
      "radio - 5\n"
     ]
    }
   ],
   "source": [
    "for source in df[\"source\"].unique():\n",
    "    print(source, len(df[df.source == source][\"case_num\"].unique()), sep=\" - \")"
   ]
  },
  {
   "cell_type": "code",
   "execution_count": 42,
   "id": "3ae44eee",
   "metadata": {},
   "outputs": [],
   "source": [
    "def sample_test_cases(num, source):\n",
    "    cases = df[df.source == source][\"case_num\"].unique()\n",
    "    idxs = []\n",
    "    for i in range(num):\n",
    "        random_idx = np.random.randint(0, len(cases))\n",
    "        while random_idx in idxs:\n",
    "            random_idx = np.random.randint(0, len(cases))\n",
    "        idxs.append(random_idx)\n",
    "    return cases[np.array(idxs)]\n",
    "\n",
    "def sample_val_cases(num, source, test_cases):\n",
    "    cases = df[df.source == source][\"case_num\"].unique()\n",
    "    idxs = []\n",
    "    for i in range(num):\n",
    "        random_idx = np.random.randint(0, len(cases))\n",
    "        while random_idx in idxs or cases[random_idx] in test_cases:\n",
    "            random_idx = np.random.randint(0, len(cases))\n",
    "        idxs.append(random_idx)\n",
    "    return cases[np.array(idxs)]"
   ]
  },
  {
   "cell_type": "code",
   "execution_count": 43,
   "id": "59b65d46",
   "metadata": {},
   "outputs": [],
   "source": [
    "i_1, i_2 = 4,1\n",
    "test_cases = np.concatenate([\n",
    "    sample_test_cases(5, \"uf\"),\n",
    "    sample_test_cases(5, \"pocusatlas\"),\n",
    "    sample_test_cases(5, \"butterfly\"),\n",
    "    sample_test_cases(5, \"core\"),\n",
    "    sample_test_cases(5, \"clarius\"),\n",
    "    sample_test_cases(5, \"paper\"),\n",
    "    sample_test_cases(5, \"litfl\"),\n",
    "    sample_test_cases(5, \"grepmed\"),\n",
    "    sample_test_cases(1, \"radio\")])\n",
    "\n",
    "val_cases = np.concatenate([\n",
    "    sample_val_cases(3, \"uf\", test_cases),\n",
    "    sample_val_cases(3, \"pocusatlas\", test_cases),\n",
    "    sample_val_cases(3, \"butterfly\", test_cases),\n",
    "    sample_val_cases(3, \"core\", test_cases),\n",
    "    sample_val_cases(3, \"clarius\", test_cases),\n",
    "    sample_val_cases(3, \"paper\", test_cases),\n",
    "    sample_val_cases(3, \"litfl\", test_cases),\n",
    "    sample_val_cases(3, \"grepmed\", test_cases),\n",
    "    sample_val_cases(1, \"radio\", test_cases)])"
   ]
  },
  {
   "cell_type": "code",
   "execution_count": 44,
   "id": "03ad2b38",
   "metadata": {},
   "outputs": [
    {
     "data": {
      "text/plain": [
       "array([195, 183, 181, 188, 177,  54,  49,  78,  60,  50,   8,   9,  83,\n",
       "        91,  86, 162, 159, 164, 174, 171, 221, 236, 217, 220, 231, 242,\n",
       "       210, 213, 208, 199, 147, 137, 150, 103, 120,  25,  27,  34,  42,\n",
       "        36, 156], dtype=int64)"
      ]
     },
     "execution_count": 44,
     "metadata": {},
     "output_type": "execute_result"
    }
   ],
   "source": [
    "test_cases"
   ]
  },
  {
   "cell_type": "code",
   "execution_count": 45,
   "id": "c6e0c418",
   "metadata": {},
   "outputs": [
    {
     "data": {
      "text/plain": [
       "41"
      ]
     },
     "execution_count": 45,
     "metadata": {},
     "output_type": "execute_result"
    }
   ],
   "source": [
    "len(test_cases)"
   ]
  },
  {
   "cell_type": "code",
   "execution_count": 46,
   "id": "8b50667b",
   "metadata": {},
   "outputs": [
    {
     "data": {
      "text/plain": [
       "array([184, 191, 194,  62,  73,  64,  89,  19,  90, 172, 167, 173, 229,\n",
       "       235, 238, 203, 212, 205, 114,  96, 106,  40,  35,  38, 155],\n",
       "      dtype=int64)"
      ]
     },
     "execution_count": 46,
     "metadata": {},
     "output_type": "execute_result"
    }
   ],
   "source": [
    "val_cases"
   ]
  },
  {
   "cell_type": "code",
   "execution_count": 47,
   "id": "a4fea104",
   "metadata": {},
   "outputs": [
    {
     "data": {
      "text/plain": [
       "25"
      ]
     },
     "execution_count": 47,
     "metadata": {},
     "output_type": "execute_result"
    }
   ],
   "source": [
    "len(val_cases)"
   ]
  },
  {
   "cell_type": "code",
   "execution_count": 48,
   "id": "1f48ca0a",
   "metadata": {},
   "outputs": [
    {
     "data": {
      "text/plain": [
       "set()"
      ]
     },
     "execution_count": 48,
     "metadata": {},
     "output_type": "execute_result"
    }
   ],
   "source": [
    "set(test_cases).intersection(set(val_cases))"
   ]
  },
  {
   "cell_type": "code",
   "execution_count": 49,
   "id": "799875bd",
   "metadata": {},
   "outputs": [
    {
     "data": {
      "text/plain": [
       "array(['other', 'covid', 'pneumonia', 'normal'], dtype=object)"
      ]
     },
     "execution_count": 49,
     "metadata": {},
     "output_type": "execute_result"
    }
   ],
   "source": [
    "df[\"label\"].unique()"
   ]
  },
  {
   "cell_type": "code",
   "execution_count": 50,
   "id": "70ebcf57",
   "metadata": {},
   "outputs": [],
   "source": [
    "if not os.path.exists(\"train_data/\"):\n",
    "    os.mkdir(\"train_data/\")\n",
    "    os.mkdir(\"train_data/other\")\n",
    "    os.mkdir(\"train_data/covid\")\n",
    "    os.mkdir(\"train_data/pneumonia\")\n",
    "    os.mkdir(\"train_data/normal\")\n",
    "    \n",
    "if not os.path.exists(\"val_data/\"):\n",
    "    os.mkdir(\"val_data/\")\n",
    "    os.mkdir(\"val_data/other\")\n",
    "    os.mkdir(\"val_data/covid\")\n",
    "    os.mkdir(\"val_data/pneumonia\")\n",
    "    os.mkdir(\"val_data/normal\")\n",
    "\n",
    "if not os.path.exists(\"test_data/\"):\n",
    "    os.mkdir(\"test_data/\")\n",
    "    os.mkdir(\"test_data/other\")\n",
    "    os.mkdir(\"test_data/covid\")\n",
    "    os.mkdir(\"test_data/pneumonia\")\n",
    "    os.mkdir(\"test_data/normal\")"
   ]
  },
  {
   "cell_type": "code",
   "execution_count": 51,
   "id": "40775994",
   "metadata": {},
   "outputs": [],
   "source": [
    "import shutil\n",
    "\n",
    "for i, row in df.iterrows():\n",
    "    if row[\"case_num\"] in test_cases:\n",
    "        shutil.copy(os.path.join(\"data\", row[\"img_name\"]), os.path.join(\"test_data\", row[\"label\"],  row[\"img_name\"]))\n",
    "    elif row[\"case_num\"] in val_cases:\n",
    "        shutil.copy(os.path.join(\"data\", row[\"img_name\"]), os.path.join(\"val_data\", row[\"label\"],  row[\"img_name\"]))\n",
    "    else:\n",
    "        shutil.copy(os.path.join(\"data\", row[\"img_name\"]), os.path.join(\"train_data\", row[\"label\"], row[\"img_name\"]))"
   ]
  },
  {
   "cell_type": "code",
   "execution_count": 52,
   "id": "ab34a00c",
   "metadata": {
    "scrolled": true
   },
   "outputs": [],
   "source": [
    "os.rename(\"train_data/normal\", \"train_data/regular\")\n",
    "os.rename(\"val_data/normal\", \"val_data/regular\")\n",
    "os.rename(\"test_data/normal\", \"test_data/regular\")\n",
    "\n",
    "shutil.rmtree(\"train_data/other\")\n",
    "shutil.rmtree(\"val_data/other\")\n",
    "shutil.rmtree(\"test_data/other\")"
   ]
  },
  {
   "cell_type": "code",
   "execution_count": 53,
   "id": "5f285379",
   "metadata": {},
   "outputs": [
    {
     "name": "stdout",
     "output_type": "stream",
     "text": [
      "train\n",
      "covid: 478\n",
      "pneumonia: 380\n",
      "regular: 181\n",
      "val\n",
      "covid: 70\n",
      "pneumonia: 59\n",
      "regular: 20\n",
      "test\n",
      "covid: 140\n",
      "pneumonia: 48\n",
      "regular: 70\n"
     ]
    }
   ],
   "source": [
    "print(\"train\")\n",
    "print(\"covid:\", len(os.listdir(\"train_data/covid\")))\n",
    "print(\"pneumonia:\", len(os.listdir(\"train_data/pneumonia\")))\n",
    "print(\"regular:\", len(os.listdir(\"train_data/regular\")))\n",
    "print(\"val\")\n",
    "print(\"covid:\", len(os.listdir(\"val_data/covid\")))\n",
    "print(\"pneumonia:\", len(os.listdir(\"val_data/pneumonia\")))\n",
    "print(\"regular:\", len(os.listdir(\"val_data/regular\")))\n",
    "print(\"test\")\n",
    "print(\"covid:\", len(os.listdir(\"test_data/covid\")))\n",
    "print(\"pneumonia:\", len(os.listdir(\"test_data/pneumonia\")))\n",
    "print(\"regular:\", len(os.listdir(\"test_data/regular\")))"
   ]
  },
  {
   "cell_type": "code",
   "execution_count": 54,
   "id": "3ae1cc68",
   "metadata": {},
   "outputs": [],
   "source": [
    "import albumentations as A\n",
    "import cv2"
   ]
  },
  {
   "cell_type": "code",
   "execution_count": 55,
   "id": "e713be18",
   "metadata": {},
   "outputs": [],
   "source": [
    "if not os.path.exists(\"augmented_data\"):\n",
    "    os.mkdir(\"augmented_data\")\n",
    "    shutil.copytree(\"train_data\", \"augmented_data/train_data\")\n",
    "    shutil.copytree(\"val_data\", \"augmented_data/val_data\")   "
   ]
  },
  {
   "cell_type": "code",
   "execution_count": 56,
   "id": "17098b20",
   "metadata": {},
   "outputs": [],
   "source": [
    "def augment_images(split, cls, complete_to, transform):\n",
    "    image_paths = os.listdir(split + \"/\" + cls)\n",
    "    n = complete_to - len(image_paths)\n",
    "    for i in range(n):\n",
    "        idx = np.random.randint(0, len(image_paths))\n",
    "        current_image_path = os.path.join(split + \"/\" + cls, image_paths[idx])\n",
    "        image = cv2.imread(current_image_path)\n",
    "        cv2.cvtColor(image, cv2.COLOR_BGR2RGB)\n",
    "        transformed_image = transform(image=image)[\"image\"]\n",
    "        cv2.imwrite(os.path.join(f\"augmented_data/{split}/{cls}\", f\"augmented{i}_\" + image_paths[idx]), transformed_image)    "
   ]
  },
  {
   "cell_type": "code",
   "execution_count": 57,
   "id": "f37d7704",
   "metadata": {},
   "outputs": [],
   "source": [
    "transform = A.Compose([\n",
    "    A.HorizontalFlip(p=1),\n",
    "    A.ShiftScaleRotate(shift_limit=0.2, scale_limit=0.2, rotate_limit=30)\n",
    "])"
   ]
  },
  {
   "cell_type": "code",
   "execution_count": 58,
   "id": "290c0e1d",
   "metadata": {},
   "outputs": [],
   "source": [
    "augment_images(\"train_data\", \"covid\", 500, transform)\n",
    "augment_images(\"train_data\", \"pneumonia\", 500, transform)\n",
    "augment_images(\"train_data\", \"regular\", 500, transform)\n",
    "\n",
    "augment_images(\"val_data\", \"covid\", 70, transform)\n",
    "augment_images(\"val_data\", \"pneumonia\", 59, transform)\n",
    "augment_images(\"val_data\", \"regular\", 20, transform)"
   ]
  },
  {
   "cell_type": "code",
   "execution_count": 59,
   "id": "a90a7518",
   "metadata": {},
   "outputs": [
    {
     "name": "stdout",
     "output_type": "stream",
     "text": [
      "train\n",
      "covid: 500\n",
      "pneumonia: 500\n",
      "regular: 500\n",
      "val\n",
      "covid: 70\n",
      "pneumonia: 59\n",
      "regular: 20\n"
     ]
    }
   ],
   "source": [
    "print(\"train\")\n",
    "print(\"covid:\", len(os.listdir(\"augmented_data/train_data/covid\")))\n",
    "print(\"pneumonia:\", len(os.listdir(\"augmented_data/train_data/pneumonia\")))\n",
    "print(\"regular:\", len(os.listdir(\"augmented_data/train_data/regular\")))\n",
    "print(\"val\")\n",
    "print(\"covid:\", len(os.listdir(\"augmented_data/val_data/covid\")))\n",
    "print(\"pneumonia:\", len(os.listdir(\"augmented_data/val_data/pneumonia\")))\n",
    "print(\"regular:\", len(os.listdir(\"augmented_data/val_data/regular\")))"
   ]
  },
  {
   "cell_type": "code",
   "execution_count": 60,
   "id": "1d70552d",
   "metadata": {},
   "outputs": [],
   "source": [
    "def sample_test_images(cls, n):\n",
    "    path = \"test_data\" + \"/\" + cls\n",
    "    image_paths = os.listdir(path)\n",
    "    sampled = []\n",
    "    for i in range(n):\n",
    "        idx = np.random.randint(0, len(image_paths))\n",
    "        while image_paths[idx] in sampled:\n",
    "            idx = np.random.randint(0, len(image_paths))\n",
    "        shutil.copy(os.path.join(path, image_paths[idx]), \n",
    "                    os.path.join(f\"augmented_data/test_data/{cls}\", image_paths[idx]))\n",
    "        sampled.append(image_paths[idx])"
   ]
  },
  {
   "cell_type": "code",
   "execution_count": 61,
   "id": "527bc182",
   "metadata": {},
   "outputs": [],
   "source": [
    "if not os.path.exists(\"augmented_data/test_data\"):\n",
    "    os.mkdir(\"augmented_data/test_data\")\n",
    "    os.mkdir(\"augmented_data/test_data/covid\")\n",
    "    os.mkdir(\"augmented_data/test_data/pneumonia\")\n",
    "    os.mkdir(\"augmented_data/test_data/regular\")"
   ]
  },
  {
   "cell_type": "code",
   "execution_count": 62,
   "id": "7ce5ad1d",
   "metadata": {},
   "outputs": [],
   "source": [
    "sample_test_images(\"covid\", 140)\n",
    "sample_test_images(\"pneumonia\", 48)\n",
    "sample_test_images(\"regular\", 70)"
   ]
  },
  {
   "cell_type": "code",
   "execution_count": 63,
   "id": "af7fd2e7",
   "metadata": {},
   "outputs": [
    {
     "name": "stdout",
     "output_type": "stream",
     "text": [
      "train\n",
      "covid: 500\n",
      "pneumonia: 500\n",
      "regular: 500\n",
      "val\n",
      "covid: 70\n",
      "pneumonia: 59\n",
      "regular: 20\n",
      "test\n",
      "covid: 140\n",
      "pneumonia: 48\n",
      "regular: 70\n"
     ]
    }
   ],
   "source": [
    "print(\"train\")\n",
    "print(\"covid:\", len(os.listdir(\"augmented_data/train_data/covid\")))\n",
    "print(\"pneumonia:\", len(os.listdir(\"augmented_data/train_data/pneumonia\")))\n",
    "print(\"regular:\", len(os.listdir(\"augmented_data/train_data/regular\")))\n",
    "print(\"val\")\n",
    "print(\"covid:\", len(os.listdir(\"augmented_data/val_data/covid\")))\n",
    "print(\"pneumonia:\", len(os.listdir(\"augmented_data/val_data/pneumonia\")))\n",
    "print(\"regular:\", len(os.listdir(\"augmented_data/val_data/regular\")))\n",
    "print(\"test\")\n",
    "print(\"covid:\", len(os.listdir(\"augmented_data/test_data/covid\")))\n",
    "print(\"pneumonia:\", len(os.listdir(\"augmented_data/test_data/pneumonia\")))\n",
    "print(\"regular:\", len(os.listdir(\"augmented_data/test_data/regular\")))"
   ]
  },
  {
   "cell_type": "code",
   "execution_count": null,
   "id": "a8d73a22",
   "metadata": {},
   "outputs": [],
   "source": []
  }
 ],
 "metadata": {
  "kernelspec": {
   "display_name": "Python 3 (ipykernel)",
   "language": "python",
   "name": "python3"
  },
  "language_info": {
   "codemirror_mode": {
    "name": "ipython",
    "version": 3
   },
   "file_extension": ".py",
   "mimetype": "text/x-python",
   "name": "python",
   "nbconvert_exporter": "python",
   "pygments_lexer": "ipython3",
   "version": "3.8.13"
  }
 },
 "nbformat": 4,
 "nbformat_minor": 5
}
